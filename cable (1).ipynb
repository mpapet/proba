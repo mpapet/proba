{
 "cells": [
  {
   "cell_type": "markdown",
   "metadata": {},
   "source": [
    "Léa TRIN\n",
    "Marine PAPET\n"
   ]
  },
  {
   "cell_type": "markdown",
   "metadata": {},
   "source": [
    "# Cable sous-marin"
   ]
  },
  {
   "cell_type": "markdown",
   "metadata": {},
   "source": [
    "## Questions théoriques\n"
   ]
  },
  {
   "cell_type": "markdown",
   "metadata": {},
   "source": [
    "### Question 1"
   ]
  },
  {
   "cell_type": "markdown",
   "metadata": {},
   "source": [
    "La loi des grands nombres nous autorise à estimer l'espérance conditionnelle par la moyenne empirique de simulations conditionnelles"
   ]
  },
  {
   "cell_type": "markdown",
   "metadata": {},
   "source": [
    "### Question 2"
   ]
  },
  {
   "cell_type": "markdown",
   "metadata": {},
   "source": [
    "2) La densité du vecteur des composantes de Z correspondant aux points de discrétisation sans observation , connaissant les valeurs prises par les composantes aux sites d'obersvation est : "
   ]
  },
  {
   "cell_type": "markdown",
   "metadata": {},
   "source": [
    "On note X le vecteur aléatoire à n composantes :\n",
    "\\begin{align}\n",
    "X = (X_{j_{1}}, ..., X_{j_{n}})\n",
    "\\end{align}"
   ]
  },
  {
   "cell_type": "markdown",
   "metadata": {},
   "source": [
    "\\begin{align}\n",
    "f_{Z|X=x}(z)=\\frac{1}{(2\\pi)^{n/2}\\sqrt{det(CS_{Z})}}exp(-\\frac{1}{2}(z-g(x))^{t}CS_{Z}^{-1}(z-g(x))\n",
    "\\end{align}"
   ]
  },
  {
   "cell_type": "markdown",
   "metadata": {},
   "source": [
    "Donc le vecteur aléatoire Z|X=x est gaussien, de matrice de covariance :\n",
    "\n",
    "\\begin{align} CS_{Z} = \\Sigma - Cov(Z,X)C_{X}^{-1}Cov(X,Z)\\end{align}\n",
    "Avec sigma la matrice de covariance de Z\n",
    "\n",
    "Et d'espérance conditionnelle : \n",
    "\\begin{align} g(x) = m_{Z}-Cov(Z,X)C_{X}^{-1}(x-m_{X})\\end{align}\n"
   ]
  },
  {
   "cell_type": "markdown",
   "metadata": {},
   "source": [
    "### Question 3 "
   ]
  },
  {
   "cell_type": "markdown",
   "metadata": {},
   "source": [
    "Si Y=(Y1,Y2,...,Yp) est un vecteur de composantes gaussiennes indépendantes toutes d'espérance nulle et de variance 1 ( on notera C la matrice de covariance de ce vecteur), alors le vecteur Z= m +RY est gaussien d'espérance m par linéarité de l'espérance : \n",
    "\\begin{align}\n",
    "E(Z)=E(m+RY)=m\n",
    "\\end{align}\n",
    "\n",
    "Et sa matrice de covariance est \\begin{align}\n",
    "C = R^{T}R\n",
    "\\end{align}"
   ]
  },
  {
   "cell_type": "markdown",
   "metadata": {},
   "source": [
    "### Question 4 "
   ]
  },
  {
   "cell_type": "markdown",
   "metadata": {},
   "source": [
    "Ainsi, le vecteur Z gaussien peut être simulé à partir de la simple simulation d'un vecteur gaussien Y de même taille centré réduit (on peut obtenir cette simulation en exploitant soit le théorème de la limite centrale sur un grand nombre de simulation de variable aléatoire indépendantes suivant une loi uniforme sur [-1;1]). \n",
    "\n",
    "\n",
    "Il faut ensuite trouver les matrices m et R convenant , donc telles que : \n",
    "\\begin{align}\n",
    "m_{Z} = m\n",
    "\\end{align}\n",
    "\\begin{align}\n",
    "\\Sigma = R^{T}R\n",
    "\\end{align}\n",
    "\n",
    "Le choix de m est donc trivial. \n",
    "Pour ce qui est de R, l'existence de la matrice est donnée par la preuve de la factorisation de Cholesky et peut facilement être obtenue via Pyhton. \n"
   ]
  },
  {
   "cell_type": "markdown",
   "metadata": {},
   "source": [
    "## Implémentation\n"
   ]
  },
  {
   "cell_type": "code",
   "execution_count": 2,
   "metadata": {},
   "outputs": [],
   "source": [
    "\n",
    "import numpy as np\n",
    "from numpy.linalg import inv\n",
    "import math \n",
    "import matplotlib.pyplot as plt\n"
   ]
  },
  {
   "cell_type": "code",
   "execution_count": 3,
   "metadata": {},
   "outputs": [],
   "source": [
    "#Discrétisation\n",
    "A=0\n",
    "B=500\n",
    "N=101 #Nombre de points de discrétisation\n",
    "Delta=(B-A)/(N-1)\n",
    "discretization_indexes=np.arange(N)\n",
    "discretization = discretization_indexes*Delta\n",
    "\n",
    "#Paramètres du modèle\n",
    "mu=-5\n",
    "a = 50\n",
    "sigma2 = 12\n",
    "\n",
    "#Données \n",
    "observation_indexes = (0, 20, 40, 60, 80, 100)\n",
    "depth = np.array([0,-4, -12.8, -1, -6.5, 0])\n",
    "\n",
    "#indices des composantes correspondant aux observations et aux composantes non observées\n",
    "unknow_indexes=list(set(discretization_indexes)-set(observation_indexes))\n",
    "\n"
   ]
  },
  {
   "cell_type": "markdown",
   "metadata": {},
   "source": [
    "###  Question 1 : calcul de la matrice de covariance "
   ]
  },
  {
   "cell_type": "code",
   "execution_count": 4,
   "metadata": {},
   "outputs": [],
   "source": [
    "def  covariance (h, a ,sigma_carre):\n",
    "    return sigma_carre*math.exp(-abs(h)/a)\n",
    "\n",
    "def covariance_matrice(Mh, a, sigma2):\n",
    "    lignesMh=len(Mh)\n",
    "    colonnesMh=len(Mh[0])\n",
    "    M=np.zeros((lignesMh, colonnesMh))\n",
    "    for i in range(lignesMh):\n",
    "        for j in range(colonnesMh):\n",
    "            M[i][j]=covariance(Mh[i][j], a , sigma2)\n",
    "    return M\n"
   ]
  },
  {
   "cell_type": "markdown",
   "metadata": {},
   "source": [
    "### Question 2 : calcule de la matrice de distance "
   ]
  },
  {
   "cell_type": "code",
   "execution_count": 5,
   "metadata": {},
   "outputs": [],
   "source": [
    "def matrice_distance (delta,p): \n",
    "    mh=np.zeros((p, p))\n",
    "    for  i in range(p):\n",
    "        for j in range (p):\n",
    "            mh[i][j]=abs(i-j)*delta #distance positive\n",
    "    return mh\n",
    "\n",
    "#La matrice de distance sera donc notée M :\n",
    "\n",
    "M = matrice_distance(Delta, N)\n"
   ]
  },
  {
   "cell_type": "markdown",
   "metadata": {},
   "source": [
    "### Question 3 : Calcul de la matrice de covariance de Z "
   ]
  },
  {
   "cell_type": "code",
   "execution_count": 6,
   "metadata": {},
   "outputs": [],
   "source": [
    "## Il ne reste plus qu'a utiliser les fonctions précédentes \n",
    "C = covariance_matrice(M, a, sigma2)"
   ]
  },
  {
   "cell_type": "markdown",
   "metadata": {},
   "source": [
    "### Question 4 : Extraction des 3 matrices de covariance"
   ]
  },
  {
   "cell_type": "code",
   "execution_count": 7,
   "metadata": {},
   "outputs": [],
   "source": [
    "#extraction de la matrice de covariance entre les observations, c'est à dire Cov(X, X)\n",
    "\n",
    "def cov_obs (C, observation_indexes) :\n",
    "    n = len(observation_indexes)\n",
    "    C_obs=np.zeros((n,n))\n",
    "    p=0\n",
    "    k=0\n",
    "    for i in observation_indexes:\n",
    "        for j in observation_indexes:\n",
    "            C_obs[p][k]=C[i][j]\n",
    "            k+=1\n",
    "        k=0\n",
    "        p+=1\n",
    "    return C_obs\n",
    "\n",
    "C_obs = cov_obs(C, observation_indexes)\n"
   ]
  },
  {
   "cell_type": "code",
   "execution_count": 8,
   "metadata": {},
   "outputs": [],
   "source": [
    "#extraction de la matrice de covariance entre les inconnues, soit C(Z, Z)\n",
    "def cov_inc(C, unknown_indexes) :\n",
    "    n = len(unknow_indexes)\n",
    "    C_inc=np.zeros((n, n))\n",
    "    p=0\n",
    "    k=0\n",
    "    for i in unknow_indexes:\n",
    "        for j in unknow_indexes:\n",
    "            C_inc[p][k]=C[i][j]\n",
    "            k+=1\n",
    "        k=0\n",
    "        p+=1\n",
    "    return C_inc\n",
    "\n",
    "C_inc = cov_inc(C, unknow_indexes)\n"
   ]
  },
  {
   "cell_type": "code",
   "execution_count": 9,
   "metadata": {},
   "outputs": [],
   "source": [
    "#extraction de la matrice de covariante entre les observations et les inconnues, soit Cov(Z, X)\n",
    "def cov_incobs(C, unknow_indexes, observation_indexes) :\n",
    "    n = len(unknow_indexes)\n",
    "    m = len(observation_indexes)\n",
    "    C_incobs=np.zeros((n,m))\n",
    "    p=0\n",
    "    k=0\n",
    "    for i in unknow_indexes:\n",
    "        for j in observation_indexes:\n",
    "            if i<j:\n",
    "                C_incobs[p][k]=C[i][j]\n",
    "            k+=1\n",
    "        k=0\n",
    "        p+=1\n",
    "    return C_incobs\n",
    "    \n",
    "C_incobs = cov_incobs(C, unknow_indexes, observation_indexes)\n"
   ]
  },
  {
   "cell_type": "markdown",
   "metadata": {},
   "source": [
    "### Question 5 : On calcule l'espérance conditionnelle"
   ]
  },
  {
   "cell_type": "code",
   "execution_count": 10,
   "metadata": {},
   "outputs": [],
   "source": [
    "#calcul de l'espérance conditionnelle\n",
    "\n",
    "esp_obs=[mu for i in range(6)] #vecteur espérance des observations\n",
    "esp_inc=[mu for i in range(95)] # vecteur espérance des inconnues\n",
    "\n",
    "C_obsinv=inv(C_obs) # on calcul l'inverse de la matrice de covariance des observables\n",
    "produit_intermediaire=np.dot(C_incobs,C_obsinv) #on effectue un calcul intermédiaire pour calculer le produit entre C(Z,X) et la matrice inverse de la covariance des observations\n",
    "produit_intermediaire\n",
    "\n",
    "esp_conditionelle=esp_inc-np.dot(produit_intermediaire,(depth-esp_obs)) # d'après la formule établie dans la partie théorique"
   ]
  },
  {
   "cell_type": "markdown",
   "metadata": {},
   "source": [
    "### Question 6 : On calcule la matrice de variance conditionnelle"
   ]
  },
  {
   "cell_type": "code",
   "execution_count": 11,
   "metadata": {},
   "outputs": [],
   "source": [
    "C_obsinc = np.transpose(C_incobs) #soit C(X,Z)\n",
    "C_condi = C_inc-np.dot(produit_intermediaire, C_obsinc) #calcul de la variance conditionnelle"
   ]
  },
  {
   "cell_type": "code",
   "execution_count": 12,
   "metadata": {},
   "outputs": [
    {
     "data": {
      "image/png": "[encoded data removed]",
      "text/plain": [
       "<Figure size 432x288 with 1 Axes>"
      ]
     },
     "metadata": {
      "needs_background": "light"
     },
     "output_type": "display_data"
    }
   ],
   "source": [
    "taille_Ccondi= len(C_condi)\n",
    "diago_Ccondi=[C_condi[i][i] for i in range(taille_Ccondi)]\n",
    "xp=unknow_indexes\n",
    "plt.plot(xp,diago_Ccondi)\n",
    "plt.title(\"Variance conditionnelle en fonction de la position\")\n",
    "plt.grid()\n",
    "plt.show()"
   ]
  },
  {
   "cell_type": "markdown",
   "metadata": {},
   "source": [
    "On observe que la variance chute avant les points d'observations, puis augmente à nouveau en s'en éloignant, ce qui est cohérent avec l'intuition."
   ]
  },
  {
   "cell_type": "markdown",
   "metadata": {},
   "source": [
    "### Question 7 : Simulation conditionnelle"
   ]
  },
  {
   "cell_type": "code",
   "execution_count": 13,
   "metadata": {},
   "outputs": [],
   "source": [
    "## On commence par effectuer la simulation conditionnelle\n",
    "R= np.linalg.cholesky(C_inc) # calcul de la matrice R\n",
    "\n",
    "#simulation Y\n",
    "from scipy.stats import norm\n",
    "Y=norm.rvs(size=N-6) # on utilise la focntion python qui donne directement le vecteur avec N-6 variable centrée réduite \n",
    "\n",
    "#simulation Z\n",
    "Z_simulation = esp_conditionelle + np.dot(R,Y)"
   ]
  },
  {
   "cell_type": "code",
   "execution_count": 14,
   "metadata": {},
   "outputs": [
    {
     "data": {
      "text/plain": [
       "Text(0.5, 1.0, 'Affichage des résultats')"
      ]
     },
     "execution_count": 14,
     "metadata": {},
     "output_type": "execute_result"
    },
    {
     "data": {
      "image/png": "[encoded data removed]",
      "text/plain": [
       "<Figure size 432x288 with 1 Axes>"
      ]
     },
     "metadata": {
      "needs_background": "light"
     },
     "output_type": "display_data"
    }
   ],
   "source": [
    "## On effectue les tracés\n",
    "plt.scatter(unknow_indexes, Z_simulation, 6, label = \"Simulation\")\n",
    "plt.legend()\n",
    "plt.scatter(observation_indexes, depth, label= \"Observations\")\n",
    "plt.legend()\n",
    "plt.scatter(unknow_indexes, esp_conditionelle, 6, label=\"Espérance consitionelle\")\n",
    "plt.legend()\n",
    "plt.title(\"Affichage des résultats\")"
   ]
  },
  {
   "cell_type": "markdown",
   "metadata": {},
   "source": [
    "### Question 8 : Calcul de la longueur du câble"
   ]
  },
  {
   "cell_type": "code",
   "execution_count": 15,
   "metadata": {},
   "outputs": [],
   "source": [
    "def longueur_cable(pas, Z, obs = observation_indexes, prof = depth):\n",
    "    l=0\n",
    "    vecteur_z_final = [-19 for i in range (101)] #on crée un vecteur avec N composantes de valeur -19 (valeur quelconque mais utile pour la suite)\n",
    "    p,k = 0, 0\n",
    "    for i in range(len(obs)) : #pour chaque indice dont la position est connu on attribue la valeur stockée dans le vecteur des profondeur connue\n",
    "        vecteur_z_final[obs[i]] = prof[i]\n",
    "    j=0\n",
    "    for i in range (101) :\n",
    "        if vecteur_z_final[i] == -19 :#dans le cas où l'indice ne correspond pas à une profondeur connue\n",
    "            vecteur_z_final[i] = Z[j]\n",
    "            j+= 1    \n",
    "    for i in range(len(vecteur_z_final)-1):\n",
    "        l+=(pas**2+(vecteur_z_final[i+1]-vecteur_z_final[i])**2)**(1/2) \n",
    "    return l     "
   ]
  },
  {
   "cell_type": "markdown",
   "metadata": {},
   "source": [
    "### Question 9 : Calcul de la longueur du câble "
   ]
  },
  {
   "cell_type": "code",
   "execution_count": 16,
   "metadata": {},
   "outputs": [],
   "source": [
    "def simuler_z (esp_conditionelle, R) :\n",
    "    Y=norm.rvs(size=N-6)\n",
    "    Z_simulation = esp_conditionelle + np.dot(R,Y) #en utilisant la formule de la question théorique 3\n",
    "    return Z_simulation"
   ]
  },
  {
   "cell_type": "code",
   "execution_count": 17,
   "metadata": {},
   "outputs": [
    {
     "name": "stdout",
     "output_type": "stream",
     "text": [
      "Différence entre l'espérance conditionnelle et L* = \n"
     ]
    },
    {
     "data": {
      "text/plain": [
       "25.091428998724382"
      ]
     },
     "execution_count": 17,
     "metadata": {},
     "output_type": "execute_result"
    }
   ],
   "source": [
    "def L_etoile(n): # avec n le nombre de simulation\n",
    "    p=0\n",
    "    for i in range(n):\n",
    "        Z1=simuler_z(esp_conditionelle, R)\n",
    "        p+=longueur_cable(Delta, Z1)\n",
    "    return p/n\n",
    "\n",
    "print(\"Différence entre l'espérance conditionnelle et L* = \")\n",
    "L_etoile(100) - longueur_cable(Delta, esp_conditionelle)"
   ]
  },
  {
   "cell_type": "markdown",
   "metadata": {},
   "source": [
    "Les deux grandeurs sont proches alors que l'espérance conditionnelle a demandé bien moins de calcul ! Elle permet donc d'approcher L* de manière remarquablement efficace en terme de temps de calcul, cependant, sa finesse ne peut être améliorée."
   ]
  },
  {
   "cell_type": "markdown",
   "metadata": {},
   "source": [
    "### Question 10 : "
   ]
  },
  {
   "cell_type": "code",
   "execution_count": 18,
   "metadata": {},
   "outputs": [
    {
     "data": {
      "image/png": "[encoded data removed]",
      "text/plain": [
       "<Figure size 432x288 with 1 Axes>"
      ]
     },
     "metadata": {
      "needs_background": "light"
     },
     "output_type": "display_data"
    }
   ],
   "source": [
    "nb=[i for i in range(1, 500)] #nombre de simulation entre 1 et 499\n",
    "Mn=[L_etoile(n) for n in nb ]\n",
    "plt.plot(nb,Mn)\n",
    "plt.grid()"
   ]
  },
  {
   "cell_type": "markdown",
   "metadata": {},
   "source": [
    "On constate donc que lorsque le nombre de simulations grandit la longueur du cable tend vers une valeur de 555 m.\n"
   ]
  },
  {
   "cell_type": "markdown",
   "metadata": {},
   "source": [
    "### Question 11 :"
   ]
  },
  {
   "cell_type": "code",
   "execution_count": 19,
   "metadata": {},
   "outputs": [
    {
     "data": {
      "image/png": "[encoded data removed]",
      "text/plain": [
       "<Figure size 432x288 with 1 Axes>"
      ]
     },
     "metadata": {
      "needs_background": "light"
     },
     "output_type": "display_data"
    }
   ],
   "source": [
    "res = plt.hist(Mn, range = (530, 580), bins = 50, rwidth = 0.5)\n"
   ]
  },
  {
   "cell_type": "markdown",
   "metadata": {},
   "source": [
    "L'histogramme montre bien de la même manière que la valeur des longueur de cable calculée se concentre autour de 555m. On peut donc supposer que la longueur de cable nécéssaire réelle se situe autour de cette valeur la."
   ]
  },
  {
   "cell_type": "markdown",
   "metadata": {},
   "source": [
    "### Question 12"
   ]
  },
  {
   "cell_type": "markdown",
   "metadata": {},
   "source": [
    "Première méthode : \n",
    "\n",
    "Dans le cas de 100 simulations:\n",
    "On peut approcher l'intervalle de confiance en utilisant le théorème centrale limite. En effet on peut considérer que les l(k) sont toutes des variables aléatoires d'espérance L*(100) (dont la valeur ne varie que de manière négligeable selon les différentes situations, de l'ordre du dizième de millimètre pour un câble de plusieurs centaines de mètres) et dont l'écart type peut être estimé de la manière suivante : "
   ]
  },
  {
   "cell_type": "code",
   "execution_count": 39,
   "metadata": {},
   "outputs": [],
   "source": [
    "def tableau_longueur(n): # avec n le nombre de simulation\n",
    "    p=[]\n",
    "    for i in range(n):\n",
    "        Z1=simuler_z(esp_conditionelle, R)\n",
    "        p.append(longueur_cable(Delta, Z1))\n",
    "    return p\n",
    "\n",
    "def ecart_type(p):\n",
    "    esp_X2=0\n",
    "    for i in range(len(p)):\n",
    "        esp_X2+=p[i]**2\n",
    "    esp_X2 = esp_X2/len(p)\n",
    "    return esp_X2-(L_etoile(len(p))**2)\n",
    "\n"
   ]
  },
  {
   "cell_type": "markdown",
   "metadata": {},
   "source": [
    "  En utilisant le théorème centrale limite on en déduit que la longueur du cable peut être approché par une variable aléatoire suivant une loi normale d'espérance L_etoile et d'écart type ecart_type/racine(100)\n",
    "  Donc l'intervalle de confiance à 95% peut être donné par :"
   ]
  },
  {
   "cell_type": "code",
   "execution_count": 45,
   "metadata": {},
   "outputs": [
    {
     "data": {
      "text/plain": [
       "[462.2820184101745, 566.2769059870336]"
      ]
     },
     "execution_count": 45,
     "metadata": {},
     "output_type": "execute_result"
    }
   ],
   "source": [
    "h=tableau_longueur(100)\n",
    "\n",
    "\n",
    "born_inf=L_etoile(100)-2*ecart_type(h)/100**(1/2)\n",
    "born_sup=L_etoile(100)+2*ecart_type(h)/100**(1/2)\n",
    "\n",
    "intervalle95=[born_inf, born_sup]\n",
    "intervalle95"
   ]
  },
  {
   "cell_type": "markdown",
   "metadata": {},
   "source": [
    "Deuxième méthode en utilisant le module scipy.stats de python"
   ]
  },
  {
   "cell_type": "code",
   "execution_count": 43,
   "metadata": {},
   "outputs": [
    {
     "data": {
      "text/plain": [
       "(555.101245592825, 555.8820298038094)"
      ]
     },
     "execution_count": 43,
     "metadata": {},
     "output_type": "execute_result"
    }
   ],
   "source": [
    "import scipy.stats as st\n",
    "simul_100=[i for i in range(1, 101)] #pour 100 simulations\n",
    "Mn_100=[L_etoile(n) for n in simul_100 ]\n",
    "\n",
    "st.t.interval(0.95, len(Mn_100)-1, loc=np.mean(Mn_100), scale=st.sem(Mn_100))"
   ]
  },
  {
   "cell_type": "markdown",
   "metadata": {},
   "source": [
    "La seconde méthode, plus fiable, nous donne un intervalle de confiance à 95% suffisament fin pour conclure que nous connaissons de manière suffisament fine la longueur de câble nécessaire, puisque l'incertitude sur la longueur d'un câble de plus de 500 mètres est bien supérieure à la largeur de notre intervalle de confiance."
   ]
  },
  {
   "cell_type": "markdown",
   "metadata": {},
   "source": [
    "### Question 13"
   ]
  },
  {
   "cell_type": "code",
   "execution_count": 46,
   "metadata": {},
   "outputs": [],
   "source": [
    "#on calcule dans les 100 simulations le nombre de longueur supérieur à 525:\n",
    "k=0\n",
    "for i in Mn_100:\n",
    "    if i>525:\n",
    "        k+=1\n",
    "#ainsi la probabilité que la longueur dépasse 525m peut être approchée par :\n",
    "proba=k/100"
   ]
  },
  {
   "cell_type": "markdown",
   "metadata": {},
   "source": [
    "### Question 14"
   ]
  },
  {
   "cell_type": "markdown",
   "metadata": {},
   "source": [
    "Nos ordinateurs respectifs n'étant pas assez puissant pour effectuer plus de calculs, nous n'avons pas recopier les codes pour 1000, 10000 et 100000 simulations. Cependant il s'agissait en réalité juste de modifier Mn et simul avec le bon nombre de simulations.On pourrait d'autre part s'attendre à un rétrécissement de l'intervalle de confiance à 95% quand le nombre de simulations augmente. "
   ]
  },
  {
   "cell_type": "code",
   "execution_count": null,
   "metadata": {},
   "outputs": [],
   "source": []
  }
 ],
 "metadata": {
  "kernelspec": {
   "display_name": "Python 3",
   "language": "python",
   "name": "python3"
  },
  "language_info": {
   "codemirror_mode": {
    "name": "ipython",
    "version": 3
   },
   "file_extension": ".py",
   "mimetype": "text/x-python",
   "name": "python",
   "nbconvert_exporter": "python",
   "pygments_lexer": "ipython3",
   "version": "3.7.3"
  }
 },
 "nbformat": 4,
 "nbformat_minor": 2
}
