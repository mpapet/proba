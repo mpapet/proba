{
 "cells": [
  {
   "cell_type": "markdown",
   "metadata": {},
   "source": [
    "# Cable sous-marin\n"
   ]
  },
  {
   "cell_type": "markdown",
   "metadata": {},
   "source": [
    "## Questions théoriques\n"
   ]
  },
  {
   "cell_type": "markdown",
   "metadata": {},
   "source": [
    "1) La loi des grands nombres nous autorise à estimer l'espérance conditionnelle par la moyenne empirique de simulations conditionnelles"
   ]
  },
  {
   "cell_type": "markdown",
   "metadata": {},
   "source": [
    "2) La densité de du vecteur des composantes de Z correspondant aux points de discrétisation sans observation , connaissant les valeurs prises par les composantes aux sites d'obersvation est:"
   ]
  },
  {
   "cell_type": "markdown",
   "metadata": {},
   "source": [
    "\\begin{align}\n",
    "f_{Z|X=x}(z)=\\frac{1}{(2\\pi)^{k/2}\\sqrt{det(CS_{Z})}}exp(-\\frac{1}{2}(z-g(x))^{t}CS_{Z}^{-1}(z-g(x))\n",
    "\\end{align}"
   ]
  },
  {
   "cell_type": "markdown",
   "metadata": {},
   "source": [
    "On en déduit que  la variable aéatoire Y|Z=z est gaussienne d'épérance:\n"
   ]
  },
  {
   "cell_type": "markdown",
   "metadata": {},
   "source": [
    "\\begin{align} \n",
    "m_{Z|X=x}=m_{X}-C_{Z,X}C_{X}^{-1}(X-m_{x})\n",
    "\\end{align}"
   ]
  },
  {
   "cell_type": "markdown",
   "metadata": {},
   "source": [
    "et de matrice de covariance"
   ]
  },
  {
   "cell_type": "markdown",
   "metadata": {},
   "source": [
    "\\begin{align}\n",
    "CS_{Z}=C_{Z}-C_{Z,X}C_{X}^{-1}C_{X,Z}\n",
    "\\end{align}"
   ]
  },
  {
   "cell_type": "markdown",
   "metadata": {},
   "source": [
    "3) Si Y=(Y1,Y2,...,Yp) est un vecteur de composantes gaussiennes d'indépendantes toutes d'espérance nulle et de variance 1 ( on notera C la matrice de covariance de ce vecteur), alors le vecteur Z= m +RY est gaussien d'espérance m et de matrice de covariance C\n"
   ]
  },
  {
   "cell_type": "markdown",
   "metadata": {},
   "source": [
    "En effet Z est gaussiencommme combinaison linéaire de variables aléatoires gaussiennes,\n"
   ]
  },
  {
   "cell_type": "markdown",
   "metadata": {},
   "source": [
    "\\begin{align}\n",
    "E(Z)=E(m+LY)=m\n",
    "\\end{align}"
   ]
  },
  {
   "cell_type": "markdown",
   "metadata": {},
   "source": [
    "4)\\begin{align}\n"
   ]
  },
  {
   "cell_type": "markdown",
   "metadata": {},
   "source": [
    "## Code\n"
   ]
  },
  {
   "cell_type": "code",
   "execution_count": 2,
   "metadata": {},
   "outputs": [
    {
     "name": "stdout",
     "output_type": "stream",
     "text": [
      "Requirement already satisfied: numpy in c:\\users\\marine\\miniconda3\\lib\\site-packages (1.17.3)\n"
     ]
    }
   ],
   "source": [
    "import sys\n",
    "!{sys.executable} -m pip install numpy \n",
    "\n"
   ]
  },
  {
   "cell_type": "code",
   "execution_count": 3,
   "metadata": {},
   "outputs": [
    {
     "ename": "ModuleNotFoundError",
     "evalue": "No module named 'matplotlib'",
     "output_type": "error",
     "traceback": [
      "\u001b[1;31m---------------------------------------------------------------------------\u001b[0m",
      "\u001b[1;31mModuleNotFoundError\u001b[0m                       Traceback (most recent call last)",
      "\u001b[1;32m<ipython-input-3-86b5737c211f>\u001b[0m in \u001b[0;36m<module>\u001b[1;34m\u001b[0m\n\u001b[0;32m      2\u001b[0m \u001b[1;32mfrom\u001b[0m \u001b[0mnumpy\u001b[0m\u001b[1;33m.\u001b[0m\u001b[0mlinalg\u001b[0m \u001b[1;32mimport\u001b[0m \u001b[0minv\u001b[0m\u001b[1;33m\u001b[0m\u001b[1;33m\u001b[0m\u001b[0m\n\u001b[0;32m      3\u001b[0m \u001b[1;32mimport\u001b[0m \u001b[0mmath\u001b[0m\u001b[1;33m\u001b[0m\u001b[1;33m\u001b[0m\u001b[0m\n\u001b[1;32m----> 4\u001b[1;33m \u001b[1;32mimport\u001b[0m \u001b[0mmatplotlib\u001b[0m\u001b[1;33m.\u001b[0m\u001b[0mpyplot\u001b[0m \u001b[1;32mas\u001b[0m \u001b[0mplt\u001b[0m\u001b[1;33m\u001b[0m\u001b[1;33m\u001b[0m\u001b[0m\n\u001b[0m",
      "\u001b[1;31mModuleNotFoundError\u001b[0m: No module named 'matplotlib'"
     ]
    }
   ],
   "source": [
    "\n",
    "import numpy as np\n",
    "from numpy.linalg import inv\n",
    "import math \n",
    "import matplotlib.pyplot as plt\n"
   ]
  },
  {
   "cell_type": "code",
   "execution_count": 4,
   "metadata": {},
   "outputs": [],
   "source": [
    "#Discrétisation\n",
    "A=0\n",
    "B=500\n",
    "N=101 #Nombre de points de discrétisation\n",
    "Delta=(B-A)/(N-1)\n",
    "discretization_indexes=np.arange(N)\n",
    "discretization = discretization_indexes*Delta\n",
    "\n",
    "#Paramètres du modèle\n",
    "mu=-5\n",
    "a = 50\n",
    "sigma2 = 12\n",
    "\n",
    "#Données \n",
    "observation_indexes = (0, 20, 40, 60, 80, 100)\n",
    "depth = np.array([0,-4, -12.8, -1, -6.5, 0])\n",
    "\n",
    "#indices des composantes correspondant aux observations et aux composantes non observées\n",
    "unknow_indexes=list(set(discretization_indexes)-set(observation_indexes))\n",
    "\n"
   ]
  },
  {
   "cell_type": "markdown",
   "metadata": {},
   "source": [
    "Q1)"
   ]
  },
  {
   "cell_type": "code",
   "execution_count": 5,
   "metadata": {},
   "outputs": [],
   "source": [
    "def  covariance (h, a ,sigma2):\n",
    "    return sigma2*math.exp(-abs(h)/a)\n",
    "\n",
    "def covariance_matrice(Mh, a, sigma2):\n",
    "    lignesMh=len(Mh)\n",
    "    colonnesMh=len(Mh[0])\n",
    "    M=np.zeros((lignesMh, colonnesMh))\n",
    "    for i in range(lignesMh):\n",
    "        for j in range(colonnesMh):\n",
    "            M[i][j]=covariance(Mh[i][j], a , sigma2)\n",
    "    return M\n"
   ]
  },
  {
   "cell_type": "markdown",
   "metadata": {},
   "source": [
    "Q2) Calcul de la matrice de distance"
   ]
  },
  {
   "cell_type": "code",
   "execution_count": 6,
   "metadata": {},
   "outputs": [],
   "source": [
    "def matrice_distance (e,p):\n",
    "    \n",
    "    mh=np.zeros((p, p))\n",
    "    for  i in range(p):\n",
    "        for j in range (p):\n",
    "            mh[i][j]=abs(i-j)*e #distance positive\n",
    "    return mh\n",
    "\n",
    "#cas de l'exo\n",
    "M=matrice_distance(Delta, N)\n"
   ]
  },
  {
   "cell_type": "markdown",
   "metadata": {},
   "source": [
    "Q3)Matrice de covariance de Z"
   ]
  },
  {
   "cell_type": "code",
   "execution_count": 7,
   "metadata": {},
   "outputs": [],
   "source": [
    "C=covariance_matrice(M, a, sigma2)"
   ]
  },
  {
   "cell_type": "markdown",
   "metadata": {},
   "source": [
    "Q4) Extraction des 3 matrices de covariance"
   ]
  },
  {
   "cell_type": "code",
   "execution_count": 13,
   "metadata": {},
   "outputs": [
    {
     "data": {
      "text/plain": [
       "array([[1.20000000e+01, 1.62402340e+00, 2.19787667e-01, 2.97450261e-02,\n",
       "        4.02555153e-03, 5.44799157e-04],\n",
       "       [1.62402340e+00, 1.20000000e+01, 1.62402340e+00, 2.19787667e-01,\n",
       "        2.97450261e-02, 4.02555153e-03],\n",
       "       [2.19787667e-01, 1.62402340e+00, 1.20000000e+01, 1.62402340e+00,\n",
       "        2.19787667e-01, 2.97450261e-02],\n",
       "       [2.97450261e-02, 2.19787667e-01, 1.62402340e+00, 1.20000000e+01,\n",
       "        1.62402340e+00, 2.19787667e-01],\n",
       "       [4.02555153e-03, 2.97450261e-02, 2.19787667e-01, 1.62402340e+00,\n",
       "        1.20000000e+01, 1.62402340e+00],\n",
       "       [5.44799157e-04, 4.02555153e-03, 2.97450261e-02, 2.19787667e-01,\n",
       "        1.62402340e+00, 1.20000000e+01]])"
      ]
     },
     "execution_count": 13,
     "metadata": {},
     "output_type": "execute_result"
    }
   ],
   "source": [
    "#extraction de la matrice de covariance entre les observations\n",
    "C_obs=np.zeros((6,6))\n",
    "p=0\n",
    "k=0\n",
    "for i in observation_indexes:\n",
    "    for j in observation_indexes:\n",
    "        C_obs[p][k]=C[i][j]\n",
    "        k+=1\n",
    "    k=0\n",
    "    p+=1\n",
    "\n",
    "C_obs\n"
   ]
  },
  {
   "cell_type": "code",
   "execution_count": 16,
   "metadata": {},
   "outputs": [
    {
     "data": {
      "text/plain": [
       "array([[1.20000000e+01, 1.08580490e+01, 9.82476904e+00, ...,\n",
       "        8.12744838e-04, 7.35401941e-04, 6.65419193e-04],\n",
       "       [1.08580490e+01, 1.20000000e+01, 1.08580490e+01, ...,\n",
       "        8.98221959e-04, 8.12744838e-04, 7.35401941e-04],\n",
       "       [9.82476904e+00, 1.08580490e+01, 1.20000000e+01, ...,\n",
       "        9.92688787e-04, 8.98221959e-04, 8.12744838e-04],\n",
       "       ...,\n",
       "       [8.12744838e-04, 8.98221959e-04, 9.92688787e-04, ...,\n",
       "        1.20000000e+01, 1.08580490e+01, 9.82476904e+00],\n",
       "       [7.35401941e-04, 8.12744838e-04, 8.98221959e-04, ...,\n",
       "        1.08580490e+01, 1.20000000e+01, 1.08580490e+01],\n",
       "       [6.65419193e-04, 7.35401941e-04, 8.12744838e-04, ...,\n",
       "        9.82476904e+00, 1.08580490e+01, 1.20000000e+01]])"
      ]
     },
     "execution_count": 16,
     "metadata": {},
     "output_type": "execute_result"
    }
   ],
   "source": [
    "#extraction de la matrice de covariance entre les inconnues\n",
    "C_inc=np.zeros((95,95))\n",
    "p=0\n",
    "k=0\n",
    "for i in unknow_indexes:\n",
    "    for j in unknow_indexes:\n",
    "        C_inc[p][k]=C[i][j]\n",
    "        k+=1\n",
    "    k=0\n",
    "    p+=1\n",
    "\n",
    "C_inc\n"
   ]
  },
  {
   "cell_type": "code",
   "execution_count": 12,
   "metadata": {},
   "outputs": [
    {
     "data": {
      "text/plain": [
       "array([[0.00000000e+00, 1.79482343e+00, 2.42902937e-01, 3.28733378e-02,\n",
       "        4.44892249e-03, 6.02096185e-04],\n",
       "       [0.00000000e+00, 1.98358666e+00, 2.68449262e-01, 3.63306569e-02,\n",
       "        4.91681975e-03, 6.65419193e-04],\n",
       "       [0.00000000e+00, 2.19220229e+00, 2.96682318e-01, 4.01515855e-02,\n",
       "        5.43392619e-03, 7.35401941e-04],\n",
       "       [0.00000000e+00, 2.42275822e+00, 3.27884669e-01, 4.43743646e-02,\n",
       "        6.00541720e-03, 8.12744838e-04],\n",
       "       [0.00000000e+00, 2.67756192e+00, 3.62368601e-01, 4.90412573e-02,\n",
       "        6.63701244e-03, 8.98221959e-04],\n",
       "       [0.00000000e+00, 2.95916357e+00, 4.00479240e-01, 5.41989713e-02,\n",
       "        7.33503313e-03, 9.92688787e-04],\n",
       "       [0.00000000e+00, 3.27038152e+00, 4.42598009e-01, 5.98991269e-02,\n",
       "        8.10646530e-03, 1.09709078e-03],\n",
       "       [0.00000000e+00, 3.61433054e+00, 4.89146448e-01, 6.61987730e-02,\n",
       "        8.95902970e-03, 1.21247282e-03],\n",
       "       [0.00000000e+00, 3.99445300e+00, 5.40590429e-01, 7.31609588e-02,\n",
       "        9.90125908e-03, 1.33998970e-03],\n",
       "       [0.00000000e+00, 4.41455329e+00, 5.97444820e-01, 8.08553640e-02,\n",
       "        1.09425836e-02, 1.48091765e-03],\n",
       "       [0.00000000e+00, 4.87883592e+00, 6.60278641e-01, 8.93589969e-02,\n",
       "        1.20934251e-02, 1.63666712e-03],\n",
       "       [0.00000000e+00, 5.39194757e+00, 7.29720752e-01, 9.87569646e-02,\n",
       "        1.33653018e-02, 1.80879690e-03],\n",
       "       [0.00000000e+00, 5.95902365e+00, 8.06466153e-01, 1.09143325e-01,\n",
       "        1.47709428e-02, 1.99902973e-03],\n",
       "       [0.00000000e+00, 6.58573963e+00, 8.91282939e-01, 1.20622029e-01,\n",
       "        1.63244165e-02, 2.20926952e-03],\n",
       "       [0.00000000e+00, 7.27836792e+00, 9.85019983e-01, 1.33307958e-01,\n",
       "        1.80412703e-02, 2.44162043e-03],\n",
       "       [0.00000000e+00, 8.04384055e+00, 1.08861544e+00, 1.47328079e-01,\n",
       "        1.99386873e-02, 2.69840789e-03],\n",
       "       [0.00000000e+00, 8.88981865e+00, 1.20310612e+00, 1.62822708e-01,\n",
       "        2.20356573e-02, 2.98220193e-03],\n",
       "       [0.00000000e+00, 9.82476904e+00, 1.32963790e+00, 1.79946922e-01,\n",
       "        2.43531676e-02, 3.29584284e-03],\n",
       "       [0.00000000e+00, 1.08580490e+01, 1.46947714e+00, 1.98872105e-01,\n",
       "        2.69144126e-02, 3.64246966e-03],\n",
       "       [0.00000000e+00, 0.00000000e+00, 1.79482343e+00, 2.42902937e-01,\n",
       "        3.28733378e-02, 4.44892249e-03],\n",
       "       [0.00000000e+00, 0.00000000e+00, 1.98358666e+00, 2.68449262e-01,\n",
       "        3.63306569e-02, 4.91681975e-03],\n",
       "       [0.00000000e+00, 0.00000000e+00, 2.19220229e+00, 2.96682318e-01,\n",
       "        4.01515855e-02, 5.43392619e-03],\n",
       "       [0.00000000e+00, 0.00000000e+00, 2.42275822e+00, 3.27884669e-01,\n",
       "        4.43743646e-02, 6.00541720e-03],\n",
       "       [0.00000000e+00, 0.00000000e+00, 2.67756192e+00, 3.62368601e-01,\n",
       "        4.90412573e-02, 6.63701244e-03],\n",
       "       [0.00000000e+00, 0.00000000e+00, 2.95916357e+00, 4.00479240e-01,\n",
       "        5.41989713e-02, 7.33503313e-03],\n",
       "       [0.00000000e+00, 0.00000000e+00, 3.27038152e+00, 4.42598009e-01,\n",
       "        5.98991269e-02, 8.10646530e-03],\n",
       "       [0.00000000e+00, 0.00000000e+00, 3.61433054e+00, 4.89146448e-01,\n",
       "        6.61987730e-02, 8.95902970e-03],\n",
       "       [0.00000000e+00, 0.00000000e+00, 3.99445300e+00, 5.40590429e-01,\n",
       "        7.31609588e-02, 9.90125908e-03],\n",
       "       [0.00000000e+00, 0.00000000e+00, 4.41455329e+00, 5.97444820e-01,\n",
       "        8.08553640e-02, 1.09425836e-02],\n",
       "       [0.00000000e+00, 0.00000000e+00, 4.87883592e+00, 6.60278641e-01,\n",
       "        8.93589969e-02, 1.20934251e-02],\n",
       "       [0.00000000e+00, 0.00000000e+00, 5.39194757e+00, 7.29720752e-01,\n",
       "        9.87569646e-02, 1.33653018e-02],\n",
       "       [0.00000000e+00, 0.00000000e+00, 5.95902365e+00, 8.06466153e-01,\n",
       "        1.09143325e-01, 1.47709428e-02],\n",
       "       [0.00000000e+00, 0.00000000e+00, 6.58573963e+00, 8.91282939e-01,\n",
       "        1.20622029e-01, 1.63244165e-02],\n",
       "       [0.00000000e+00, 0.00000000e+00, 7.27836792e+00, 9.85019983e-01,\n",
       "        1.33307958e-01, 1.80412703e-02],\n",
       "       [0.00000000e+00, 0.00000000e+00, 8.04384055e+00, 1.08861544e+00,\n",
       "        1.47328079e-01, 1.99386873e-02],\n",
       "       [0.00000000e+00, 0.00000000e+00, 8.88981865e+00, 1.20310612e+00,\n",
       "        1.62822708e-01, 2.20356573e-02],\n",
       "       [0.00000000e+00, 0.00000000e+00, 9.82476904e+00, 1.32963790e+00,\n",
       "        1.79946922e-01, 2.43531676e-02],\n",
       "       [0.00000000e+00, 0.00000000e+00, 1.08580490e+01, 1.46947714e+00,\n",
       "        1.98872105e-01, 2.69144126e-02],\n",
       "       [0.00000000e+00, 0.00000000e+00, 0.00000000e+00, 1.79482343e+00,\n",
       "        2.42902937e-01, 3.28733378e-02],\n",
       "       [0.00000000e+00, 0.00000000e+00, 0.00000000e+00, 1.98358666e+00,\n",
       "        2.68449262e-01, 3.63306569e-02],\n",
       "       [0.00000000e+00, 0.00000000e+00, 0.00000000e+00, 2.19220229e+00,\n",
       "        2.96682318e-01, 4.01515855e-02],\n",
       "       [0.00000000e+00, 0.00000000e+00, 0.00000000e+00, 2.42275822e+00,\n",
       "        3.27884669e-01, 4.43743646e-02],\n",
       "       [0.00000000e+00, 0.00000000e+00, 0.00000000e+00, 2.67756192e+00,\n",
       "        3.62368601e-01, 4.90412573e-02],\n",
       "       [0.00000000e+00, 0.00000000e+00, 0.00000000e+00, 2.95916357e+00,\n",
       "        4.00479240e-01, 5.41989713e-02],\n",
       "       [0.00000000e+00, 0.00000000e+00, 0.00000000e+00, 3.27038152e+00,\n",
       "        4.42598009e-01, 5.98991269e-02],\n",
       "       [0.00000000e+00, 0.00000000e+00, 0.00000000e+00, 3.61433054e+00,\n",
       "        4.89146448e-01, 6.61987730e-02],\n",
       "       [0.00000000e+00, 0.00000000e+00, 0.00000000e+00, 3.99445300e+00,\n",
       "        5.40590429e-01, 7.31609588e-02],\n",
       "       [0.00000000e+00, 0.00000000e+00, 0.00000000e+00, 4.41455329e+00,\n",
       "        5.97444820e-01, 8.08553640e-02],\n",
       "       [0.00000000e+00, 0.00000000e+00, 0.00000000e+00, 4.87883592e+00,\n",
       "        6.60278641e-01, 8.93589969e-02],\n",
       "       [0.00000000e+00, 0.00000000e+00, 0.00000000e+00, 5.39194757e+00,\n",
       "        7.29720752e-01, 9.87569646e-02],\n",
       "       [0.00000000e+00, 0.00000000e+00, 0.00000000e+00, 5.95902365e+00,\n",
       "        8.06466153e-01, 1.09143325e-01],\n",
       "       [0.00000000e+00, 0.00000000e+00, 0.00000000e+00, 6.58573963e+00,\n",
       "        8.91282939e-01, 1.20622029e-01],\n",
       "       [0.00000000e+00, 0.00000000e+00, 0.00000000e+00, 7.27836792e+00,\n",
       "        9.85019983e-01, 1.33307958e-01],\n",
       "       [0.00000000e+00, 0.00000000e+00, 0.00000000e+00, 8.04384055e+00,\n",
       "        1.08861544e+00, 1.47328079e-01],\n",
       "       [0.00000000e+00, 0.00000000e+00, 0.00000000e+00, 8.88981865e+00,\n",
       "        1.20310612e+00, 1.62822708e-01],\n",
       "       [0.00000000e+00, 0.00000000e+00, 0.00000000e+00, 9.82476904e+00,\n",
       "        1.32963790e+00, 1.79946922e-01],\n",
       "       [0.00000000e+00, 0.00000000e+00, 0.00000000e+00, 1.08580490e+01,\n",
       "        1.46947714e+00, 1.98872105e-01],\n",
       "       [0.00000000e+00, 0.00000000e+00, 0.00000000e+00, 0.00000000e+00,\n",
       "        1.79482343e+00, 2.42902937e-01],\n",
       "       [0.00000000e+00, 0.00000000e+00, 0.00000000e+00, 0.00000000e+00,\n",
       "        1.98358666e+00, 2.68449262e-01],\n",
       "       [0.00000000e+00, 0.00000000e+00, 0.00000000e+00, 0.00000000e+00,\n",
       "        2.19220229e+00, 2.96682318e-01],\n",
       "       [0.00000000e+00, 0.00000000e+00, 0.00000000e+00, 0.00000000e+00,\n",
       "        2.42275822e+00, 3.27884669e-01],\n",
       "       [0.00000000e+00, 0.00000000e+00, 0.00000000e+00, 0.00000000e+00,\n",
       "        2.67756192e+00, 3.62368601e-01],\n",
       "       [0.00000000e+00, 0.00000000e+00, 0.00000000e+00, 0.00000000e+00,\n",
       "        2.95916357e+00, 4.00479240e-01],\n",
       "       [0.00000000e+00, 0.00000000e+00, 0.00000000e+00, 0.00000000e+00,\n",
       "        3.27038152e+00, 4.42598009e-01],\n",
       "       [0.00000000e+00, 0.00000000e+00, 0.00000000e+00, 0.00000000e+00,\n",
       "        3.61433054e+00, 4.89146448e-01],\n",
       "       [0.00000000e+00, 0.00000000e+00, 0.00000000e+00, 0.00000000e+00,\n",
       "        3.99445300e+00, 5.40590429e-01],\n",
       "       [0.00000000e+00, 0.00000000e+00, 0.00000000e+00, 0.00000000e+00,\n",
       "        4.41455329e+00, 5.97444820e-01],\n",
       "       [0.00000000e+00, 0.00000000e+00, 0.00000000e+00, 0.00000000e+00,\n",
       "        4.87883592e+00, 6.60278641e-01],\n",
       "       [0.00000000e+00, 0.00000000e+00, 0.00000000e+00, 0.00000000e+00,\n",
       "        5.39194757e+00, 7.29720752e-01],\n",
       "       [0.00000000e+00, 0.00000000e+00, 0.00000000e+00, 0.00000000e+00,\n",
       "        5.95902365e+00, 8.06466153e-01],\n",
       "       [0.00000000e+00, 0.00000000e+00, 0.00000000e+00, 0.00000000e+00,\n",
       "        6.58573963e+00, 8.91282939e-01],\n",
       "       [0.00000000e+00, 0.00000000e+00, 0.00000000e+00, 0.00000000e+00,\n",
       "        7.27836792e+00, 9.85019983e-01],\n",
       "       [0.00000000e+00, 0.00000000e+00, 0.00000000e+00, 0.00000000e+00,\n",
       "        8.04384055e+00, 1.08861544e+00],\n",
       "       [0.00000000e+00, 0.00000000e+00, 0.00000000e+00, 0.00000000e+00,\n",
       "        8.88981865e+00, 1.20310612e+00],\n",
       "       [0.00000000e+00, 0.00000000e+00, 0.00000000e+00, 0.00000000e+00,\n",
       "        9.82476904e+00, 1.32963790e+00],\n",
       "       [0.00000000e+00, 0.00000000e+00, 0.00000000e+00, 0.00000000e+00,\n",
       "        1.08580490e+01, 1.46947714e+00],\n",
       "       [0.00000000e+00, 0.00000000e+00, 0.00000000e+00, 0.00000000e+00,\n",
       "        0.00000000e+00, 1.79482343e+00],\n",
       "       [0.00000000e+00, 0.00000000e+00, 0.00000000e+00, 0.00000000e+00,\n",
       "        0.00000000e+00, 1.98358666e+00],\n",
       "       [0.00000000e+00, 0.00000000e+00, 0.00000000e+00, 0.00000000e+00,\n",
       "        0.00000000e+00, 2.19220229e+00],\n",
       "       [0.00000000e+00, 0.00000000e+00, 0.00000000e+00, 0.00000000e+00,\n",
       "        0.00000000e+00, 2.42275822e+00],\n",
       "       [0.00000000e+00, 0.00000000e+00, 0.00000000e+00, 0.00000000e+00,\n",
       "        0.00000000e+00, 2.67756192e+00],\n",
       "       [0.00000000e+00, 0.00000000e+00, 0.00000000e+00, 0.00000000e+00,\n",
       "        0.00000000e+00, 2.95916357e+00],\n",
       "       [0.00000000e+00, 0.00000000e+00, 0.00000000e+00, 0.00000000e+00,\n",
       "        0.00000000e+00, 3.27038152e+00],\n",
       "       [0.00000000e+00, 0.00000000e+00, 0.00000000e+00, 0.00000000e+00,\n",
       "        0.00000000e+00, 3.61433054e+00],\n",
       "       [0.00000000e+00, 0.00000000e+00, 0.00000000e+00, 0.00000000e+00,\n",
       "        0.00000000e+00, 3.99445300e+00],\n",
       "       [0.00000000e+00, 0.00000000e+00, 0.00000000e+00, 0.00000000e+00,\n",
       "        0.00000000e+00, 4.41455329e+00],\n",
       "       [0.00000000e+00, 0.00000000e+00, 0.00000000e+00, 0.00000000e+00,\n",
       "        0.00000000e+00, 4.87883592e+00],\n",
       "       [0.00000000e+00, 0.00000000e+00, 0.00000000e+00, 0.00000000e+00,\n",
       "        0.00000000e+00, 5.39194757e+00],\n",
       "       [0.00000000e+00, 0.00000000e+00, 0.00000000e+00, 0.00000000e+00,\n",
       "        0.00000000e+00, 5.95902365e+00],\n",
       "       [0.00000000e+00, 0.00000000e+00, 0.00000000e+00, 0.00000000e+00,\n",
       "        0.00000000e+00, 6.58573963e+00],\n",
       "       [0.00000000e+00, 0.00000000e+00, 0.00000000e+00, 0.00000000e+00,\n",
       "        0.00000000e+00, 7.27836792e+00],\n",
       "       [0.00000000e+00, 0.00000000e+00, 0.00000000e+00, 0.00000000e+00,\n",
       "        0.00000000e+00, 8.04384055e+00],\n",
       "       [0.00000000e+00, 0.00000000e+00, 0.00000000e+00, 0.00000000e+00,\n",
       "        0.00000000e+00, 8.88981865e+00],\n",
       "       [0.00000000e+00, 0.00000000e+00, 0.00000000e+00, 0.00000000e+00,\n",
       "        0.00000000e+00, 9.82476904e+00],\n",
       "       [0.00000000e+00, 0.00000000e+00, 0.00000000e+00, 0.00000000e+00,\n",
       "        0.00000000e+00, 1.08580490e+01]])"
      ]
     },
     "execution_count": 12,
     "metadata": {},
     "output_type": "execute_result"
    }
   ],
   "source": [
    "#extraction de la matrice de covariante entre les observations et les inconnues\n",
    "C_incobs=np.zeros((95,6))\n",
    "p=0\n",
    "k=0\n",
    "for i in unknow_indexes:\n",
    "    for j in observation_indexes:\n",
    "        if i<j:\n",
    "            C_incobs[p][k]=C[i][j]\n",
    "        k+=1\n",
    "    k=0\n",
    "    p+=1\n",
    "    \n",
    "C_incobs #soit C(Z,X)\n"
   ]
  },
  {
   "cell_type": "markdown",
   "metadata": {},
   "source": [
    "Q5)On calcule l'espérance conditionnelle"
   ]
  },
  {
   "cell_type": "code",
   "execution_count": 14,
   "metadata": {},
   "outputs": [],
   "source": [
    "#calcul de l'espérance conditionnelle\n",
    "esp_obs=[mu for i in range(6)] #vecteur espérance des observations\n",
    "esp_inc=[mu for i in range(95)] # vecteur espérance des inconnues\n",
    "C_obsinv=inv(C_obs) #on calcul l'inverse de la matrice de covariance des observables\n",
    "produit_intermediaire=np.dot(C_incobs,C_obsinv) #on effectue un calcul intermédiarre pour calculer le produit entre C(Z,X) et C(X)-1\n",
    "produit_intermediaire\n",
    "\n",
    "esp_conditionelle=esp_inc-np.dot(produit_intermediaire,(depth-esp_obs)) #d'après la formule établie dans la partie théorique"
   ]
  },
  {
   "cell_type": "markdown",
   "metadata": {},
   "source": [
    "Q6) On calcule la matrice de variance conditionnelle"
   ]
  },
  {
   "cell_type": "code",
   "execution_count": 17,
   "metadata": {},
   "outputs": [],
   "source": [
    "C_obsinc=np.transpose(C_incobs) #soit C(X,Z)\n",
    "C_condi=C_inc-np.dot(produit_intermediaire, C_obsinc) #calcul de la variance conditionnelle"
   ]
  },
  {
   "cell_type": "code",
   "execution_count": 18,
   "metadata": {},
   "outputs": [
    {
     "ename": "NameError",
     "evalue": "name 'plt' is not defined",
     "output_type": "error",
     "traceback": [
      "\u001b[1;31m---------------------------------------------------------------------------\u001b[0m",
      "\u001b[1;31mNameError\u001b[0m                                 Traceback (most recent call last)",
      "\u001b[1;32m<ipython-input-18-27794bed7400>\u001b[0m in \u001b[0;36m<module>\u001b[1;34m\u001b[0m\n\u001b[0;32m      2\u001b[0m \u001b[0mdiago_Ccondi\u001b[0m\u001b[1;33m=\u001b[0m\u001b[1;33m[\u001b[0m\u001b[0mC_condi\u001b[0m\u001b[1;33m[\u001b[0m\u001b[0mi\u001b[0m\u001b[1;33m]\u001b[0m\u001b[1;33m[\u001b[0m\u001b[0mi\u001b[0m\u001b[1;33m]\u001b[0m \u001b[1;32mfor\u001b[0m \u001b[0mi\u001b[0m \u001b[1;32min\u001b[0m \u001b[0mrange\u001b[0m\u001b[1;33m(\u001b[0m\u001b[0mtaille_Ccondi\u001b[0m\u001b[1;33m)\u001b[0m\u001b[1;33m]\u001b[0m\u001b[1;33m\u001b[0m\u001b[1;33m\u001b[0m\u001b[0m\n\u001b[0;32m      3\u001b[0m \u001b[0mxp\u001b[0m\u001b[1;33m=\u001b[0m\u001b[0munknow_indexes\u001b[0m\u001b[1;33m\u001b[0m\u001b[1;33m\u001b[0m\u001b[0m\n\u001b[1;32m----> 4\u001b[1;33m \u001b[0mplt\u001b[0m\u001b[1;33m.\u001b[0m\u001b[0mplot\u001b[0m\u001b[1;33m(\u001b[0m\u001b[0mxp\u001b[0m\u001b[1;33m,\u001b[0m\u001b[0mdiapo_Ccondi\u001b[0m\u001b[1;33m)\u001b[0m\u001b[1;33m\u001b[0m\u001b[1;33m\u001b[0m\u001b[0m\n\u001b[0m\u001b[0;32m      5\u001b[0m \u001b[0mplt\u001b[0m\u001b[1;33m.\u001b[0m\u001b[0mgrid\u001b[0m\u001b[1;33m(\u001b[0m\u001b[1;33m)\u001b[0m\u001b[1;33m\u001b[0m\u001b[1;33m\u001b[0m\u001b[0m\n\u001b[0;32m      6\u001b[0m \u001b[0mplt\u001b[0m\u001b[1;33m.\u001b[0m\u001b[0mshow\u001b[0m\u001b[1;33m(\u001b[0m\u001b[1;33m)\u001b[0m\u001b[1;33m\u001b[0m\u001b[1;33m\u001b[0m\u001b[0m\n",
      "\u001b[1;31mNameError\u001b[0m: name 'plt' is not defined"
     ]
    }
   ],
   "source": [
    "taille_Ccondi= len(C_condi)\n",
    "diago_Ccondi=[C_condi[i][i] for i in range(taille_Ccondi)]\n",
    "xp=unknow_indexes\n",
    "plt.plot(xp,diapo_Ccondi)\n",
    "plt.grid()\n",
    "plt.show()"
   ]
  },
  {
   "cell_type": "markdown",
   "metadata": {},
   "source": [
    "Q7) ?"
   ]
  },
  {
   "cell_type": "code",
   "execution_count": 20,
   "metadata": {},
   "outputs": [
    {
     "ename": "ModuleNotFoundError",
     "evalue": "No module named 'scipy'",
     "output_type": "error",
     "traceback": [
      "\u001b[1;31m---------------------------------------------------------------------------\u001b[0m",
      "\u001b[1;31mModuleNotFoundError\u001b[0m                       Traceback (most recent call last)",
      "\u001b[1;32m<ipython-input-20-a635c26e7b25>\u001b[0m in \u001b[0;36m<module>\u001b[1;34m\u001b[0m\n\u001b[0;32m      2\u001b[0m \u001b[1;33m\u001b[0m\u001b[0m\n\u001b[0;32m      3\u001b[0m \u001b[1;31m#simulation Y\u001b[0m\u001b[1;33m\u001b[0m\u001b[1;33m\u001b[0m\u001b[1;33m\u001b[0m\u001b[0m\n\u001b[1;32m----> 4\u001b[1;33m \u001b[1;32mfrom\u001b[0m \u001b[0mscipy\u001b[0m\u001b[1;33m.\u001b[0m\u001b[0mstats\u001b[0m \u001b[1;32mimport\u001b[0m \u001b[0mnorm\u001b[0m\u001b[1;33m\u001b[0m\u001b[1;33m\u001b[0m\u001b[0m\n\u001b[0m\u001b[0;32m      5\u001b[0m \u001b[0mY\u001b[0m\u001b[1;33m=\u001b[0m\u001b[0mnorm\u001b[0m\u001b[1;33m.\u001b[0m\u001b[0mrvs\u001b[0m\u001b[1;33m(\u001b[0m\u001b[0msize\u001b[0m\u001b[1;33m=\u001b[0m\u001b[0mN\u001b[0m\u001b[1;33m-\u001b[0m\u001b[1;36m5\u001b[0m\u001b[1;33m)\u001b[0m \u001b[1;31m#donne le vecteur avec N variable centrée réduite\u001b[0m\u001b[1;33m\u001b[0m\u001b[1;33m\u001b[0m\u001b[0m\n\u001b[0;32m      6\u001b[0m \u001b[1;33m\u001b[0m\u001b[0m\n",
      "\u001b[1;31mModuleNotFoundError\u001b[0m: No module named 'scipy'"
     ]
    }
   ],
   "source": [
    "R=np.linalg.cholesky(C_inc) #calcul de la matrice R\n",
    "\n",
    "#simulation Y\n",
    "from scipy.stats import norm\n",
    "Y=norm.rvs(size=N-5) #donne le vecteur avec N variable centrée réduite \n",
    "\n",
    "#simulation Z\n",
    "Z=esp_conditionelle +np.dot(R,Y)\n"
   ]
  },
  {
   "cell_type": "markdown",
   "metadata": {},
   "source": [
    "Q8)"
   ]
  },
  {
   "cell_type": "code",
   "execution_count": null,
   "metadata": {},
   "outputs": [],
   "source": [
    "def longueur_cable(pas, Z):\n",
    "    l=0\n",
    "    for i in range(len(Z)):\n",
    "        l+=(pas**2+(Z[i+1]-Z[i])**2)**(1/2) #d'après la formule donnée dans l'énoncé\n",
    "    return l     "
   ]
  },
  {
   "cell_type": "markdown",
   "metadata": {},
   "source": [
    "Q9) d'après la formule de L* donnée dans l'énoncé"
   ]
  },
  {
   "cell_type": "code",
   "execution_count": null,
   "metadata": {},
   "outputs": [],
   "source": [
    "def L_etoile(n): #avec n le nombre de simulation\n",
    "    p=0\n",
    "    for i in range(n):\n",
    "        Z1=#simuler Z1\n",
    "        p+=longueur_cable(Delta, Z1)\n",
    "    return p/n\n",
    "\n",
    "##non fini"
   ]
  },
  {
   "cell_type": "markdown",
   "metadata": {},
   "source": [
    "Q10)"
   ]
  },
  {
   "cell_type": "code",
   "execution_count": null,
   "metadata": {},
   "outputs": [],
   "source": [
    "nb=[i for i in range(1, 500)] #nombre de simulation entre 1 et 499\n",
    "Mn=[L_etoile(n) for n in nb ]\n",
    "plt.plot(n,Mn)\n",
    "plt.grid()\n",
    "plt.show()"
   ]
  }
 ],
 "metadata": {
  "kernelspec": {
   "display_name": "Python 3",
   "language": "python",
   "name": "python3"
  },
  "language_info": {
   "codemirror_mode": {
    "name": "ipython",
    "version": 3
   },
   "file_extension": ".py",
   "mimetype": "text/x-python",
   "name": "python",
   "nbconvert_exporter": "python",
   "pygments_lexer": "ipython3",
   "version": "3.7.3"
  }
 },
 "nbformat": 4,
 "nbformat_minor": 2
}
